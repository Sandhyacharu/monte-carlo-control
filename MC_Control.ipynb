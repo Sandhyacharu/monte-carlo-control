{
  "nbformat": 4,
  "nbformat_minor": 0,
  "metadata": {
    "colab": {
      "provenance": []
    },
    "kernelspec": {
      "name": "python3",
      "display_name": "Python 3"
    },
    "language_info": {
      "name": "python"
    }
  },
  "cells": [
    {
      "cell_type": "code",
      "execution_count": 2,
      "metadata": {
        "id": "lx11CItjkXKr"
      },
      "outputs": [],
      "source": [
        "import warnings ; warnings.filterwarnings('ignore')"
      ]
    },
    {
      "cell_type": "code",
      "source": [
        "import gym, gym_walk\n",
        "import numpy as np"
      ],
      "metadata": {
        "id": "Nzl0H5V8lEGp"
      },
      "execution_count": 3,
      "outputs": []
    },
    {
      "cell_type": "code",
      "source": [
        "\n",
        "import random\n",
        "import warnings\n",
        "\n",
        "warnings.filterwarnings('ignore', category=DeprecationWarning)\n",
        "np.set_printoptions(suppress=True)\n",
        "random.seed(123); np.random.seed(123)"
      ],
      "metadata": {
        "id": "adE7h2AylGLy",
        "colab": {
          "base_uri": "https://localhost:8080/"
        },
        "outputId": "b323c880-b042-4018-c7aa-20b140b9c9f3"
      },
      "execution_count": 4,
      "outputs": [
        {
          "output_type": "stream",
          "name": "stderr",
          "text": [
            "/usr/local/lib/python3.10/dist-packages/ipykernel/ipkernel.py:283: DeprecationWarning: `should_run_async` will not call `transform_cell` automatically in the future. Please pass the result to `transformed_cell` argument and any exception that happen during thetransform in `preprocessing_exc_tuple` in IPython 7.17 and above.\n",
            "  and should_run_async(code)\n"
          ]
        }
      ]
    },
    {
      "cell_type": "code",
      "source": [
        "\n",
        "!pip install git+https://github.com/mimoralea/gym-walk#egg=gym-walk"
      ],
      "metadata": {
        "colab": {
          "base_uri": "https://localhost:8080/"
        },
        "id": "Ao1I9_6FlIzQ",
        "outputId": "b3816dfd-6cff-4c5d-f574-25990cbcd6c7"
      },
      "execution_count": 1,
      "outputs": [
        {
          "output_type": "stream",
          "name": "stdout",
          "text": [
            "Collecting gym-walk\n",
            "  Cloning https://github.com/mimoralea/gym-walk to /tmp/pip-install-nmzzk0b7/gym-walk_b0e173e15f314358a55fb9c373d16430\n",
            "  Running command git clone --filter=blob:none --quiet https://github.com/mimoralea/gym-walk /tmp/pip-install-nmzzk0b7/gym-walk_b0e173e15f314358a55fb9c373d16430\n",
            "  Resolved https://github.com/mimoralea/gym-walk to commit 5999016267d6de2f5a63307fb00dfd63de319ac1\n",
            "  Preparing metadata (setup.py) ... \u001b[?25l\u001b[?25hdone\n",
            "Requirement already satisfied: gym in /usr/local/lib/python3.10/dist-packages (from gym-walk) (0.25.2)\n",
            "Requirement already satisfied: numpy>=1.18.0 in /usr/local/lib/python3.10/dist-packages (from gym->gym-walk) (1.23.5)\n",
            "Requirement already satisfied: cloudpickle>=1.2.0 in /usr/local/lib/python3.10/dist-packages (from gym->gym-walk) (2.2.1)\n",
            "Requirement already satisfied: gym-notices>=0.0.4 in /usr/local/lib/python3.10/dist-packages (from gym->gym-walk) (0.0.8)\n",
            "Building wheels for collected packages: gym-walk\n",
            "  Building wheel for gym-walk (setup.py) ... \u001b[?25l\u001b[?25hdone\n",
            "  Created wheel for gym-walk: filename=gym_walk-0.0.2-py3-none-any.whl size=4054 sha256=ac55dfbb52dc724a05447fcdda6f3b87db7812cecd48259cf0f9b1d33a6f17e4\n",
            "  Stored in directory: /tmp/pip-ephem-wheel-cache-2n0mc0i0/wheels/24/fe/c4/0cbc7511d29265bad7e28a09311db3f87f0cafba74af54d530\n",
            "Successfully built gym-walk\n",
            "Installing collected packages: gym-walk\n",
            "Successfully installed gym-walk-0.0.2\n"
          ]
        }
      ]
    },
    {
      "cell_type": "code",
      "source": [
        "def print_policy(pi, P, action_symbols=('<', 'v', '>', '^'), n_cols=4, title='Policy:'):\n",
        "    print(title)\n",
        "    arrs = {k:v for k,v in enumerate(action_symbols)}\n",
        "    for s in range(len(P)):\n",
        "        a = pi[s]\n",
        "        print(\"| \", end=\"\")\n",
        "        if np.all([done for action in P[s].values() for _, _, _, done in action]):\n",
        "            print(\"\".rjust(9), end=\" \")\n",
        "        else:\n",
        "            print(str(s).zfill(2), arrs[a].rjust(6), end=\" \")\n",
        "        if (s + 1) % n_cols == 0: print(\"|\")"
      ],
      "metadata": {
        "id": "wu7ho9Q6lLrT"
      },
      "execution_count": 5,
      "outputs": []
    },
    {
      "cell_type": "code",
      "source": [
        "env = gym.make('SlipperyWalkFive-v0')\n",
        "P = env.env.P\n",
        "init_state = env.reset()\n",
        "goal_state = 6\n",
        "LEFT, RIGHT = range(2)\n",
        "P"
      ],
      "metadata": {
        "colab": {
          "base_uri": "https://localhost:8080/"
        },
        "id": "mWHJq5nblsCC",
        "outputId": "1fa76909-2fbf-4d86-be71-0d6fe9c24c8a"
      },
      "execution_count": 6,
      "outputs": [
        {
          "output_type": "execute_result",
          "data": {
            "text/plain": [
              "{0: {0: [(0.5000000000000001, 0, 0.0, True),\n",
              "   (0.3333333333333333, 0, 0.0, True),\n",
              "   (0.16666666666666666, 0, 0.0, True)],\n",
              "  1: [(0.5000000000000001, 0, 0.0, True),\n",
              "   (0.3333333333333333, 0, 0.0, True),\n",
              "   (0.16666666666666666, 0, 0.0, True)]},\n",
              " 1: {0: [(0.5000000000000001, 0, 0.0, True),\n",
              "   (0.3333333333333333, 1, 0.0, False),\n",
              "   (0.16666666666666666, 2, 0.0, False)],\n",
              "  1: [(0.5000000000000001, 2, 0.0, False),\n",
              "   (0.3333333333333333, 1, 0.0, False),\n",
              "   (0.16666666666666666, 0, 0.0, True)]},\n",
              " 2: {0: [(0.5000000000000001, 1, 0.0, False),\n",
              "   (0.3333333333333333, 2, 0.0, False),\n",
              "   (0.16666666666666666, 3, 0.0, False)],\n",
              "  1: [(0.5000000000000001, 3, 0.0, False),\n",
              "   (0.3333333333333333, 2, 0.0, False),\n",
              "   (0.16666666666666666, 1, 0.0, False)]},\n",
              " 3: {0: [(0.5000000000000001, 2, 0.0, False),\n",
              "   (0.3333333333333333, 3, 0.0, False),\n",
              "   (0.16666666666666666, 4, 0.0, False)],\n",
              "  1: [(0.5000000000000001, 4, 0.0, False),\n",
              "   (0.3333333333333333, 3, 0.0, False),\n",
              "   (0.16666666666666666, 2, 0.0, False)]},\n",
              " 4: {0: [(0.5000000000000001, 3, 0.0, False),\n",
              "   (0.3333333333333333, 4, 0.0, False),\n",
              "   (0.16666666666666666, 5, 0.0, False)],\n",
              "  1: [(0.5000000000000001, 5, 0.0, False),\n",
              "   (0.3333333333333333, 4, 0.0, False),\n",
              "   (0.16666666666666666, 3, 0.0, False)]},\n",
              " 5: {0: [(0.5000000000000001, 4, 0.0, False),\n",
              "   (0.3333333333333333, 5, 0.0, False),\n",
              "   (0.16666666666666666, 6, 1.0, True)],\n",
              "  1: [(0.5000000000000001, 6, 1.0, True),\n",
              "   (0.3333333333333333, 5, 0.0, False),\n",
              "   (0.16666666666666666, 4, 0.0, False)]},\n",
              " 6: {0: [(0.5000000000000001, 6, 0.0, True),\n",
              "   (0.3333333333333333, 6, 0.0, True),\n",
              "   (0.16666666666666666, 6, 0.0, True)],\n",
              "  1: [(0.5000000000000001, 6, 0.0, True),\n",
              "   (0.3333333333333333, 6, 0.0, True),\n",
              "   (0.16666666666666666, 6, 0.0, True)]}}"
            ]
          },
          "metadata": {},
          "execution_count": 6
        }
      ]
    },
    {
      "cell_type": "code",
      "source": [
        "init_state"
      ],
      "metadata": {
        "colab": {
          "base_uri": "https://localhost:8080/"
        },
        "id": "13fP4jCml0f0",
        "outputId": "9823d9ed-0617-4954-8043-95c58ec20b2c"
      },
      "execution_count": 7,
      "outputs": [
        {
          "output_type": "execute_result",
          "data": {
            "text/plain": [
              "3"
            ]
          },
          "metadata": {},
          "execution_count": 7
        }
      ]
    },
    {
      "cell_type": "code",
      "source": [
        "state, reward, done, info = env.step(RIGHT)\n",
        "print(\"state:{0} - reward:{1} - done:{2} - info:{3}\".format(state, reward, done, info))"
      ],
      "metadata": {
        "colab": {
          "base_uri": "https://localhost:8080/"
        },
        "id": "YEU4KVvRl5n1",
        "outputId": "b5f356be-a7cf-44c0-d72f-c204c74a28f7"
      },
      "execution_count": 8,
      "outputs": [
        {
          "output_type": "stream",
          "name": "stdout",
          "text": [
            "state:4 - reward:0.0 - done:False - info:{'prob': 0.5000000000000001}\n"
          ]
        }
      ]
    },
    {
      "cell_type": "code",
      "source": [
        "def print_state_value_function(V, P, n_cols=4, prec=3, title='State-value function:'):\n",
        "    print(title)\n",
        "    for s in range(len(P)):\n",
        "        v = V[s]\n",
        "        print(\"| \", end=\"\")\n",
        "        if np.all([done for action in P[s].values() for _, _, _, done in action]):\n",
        "            print(\"\".rjust(9), end=\" \")\n",
        "        else:\n",
        "            print(str(s).zfill(2), '{}'.format(np.round(v, prec)).rjust(6), end=\" \")\n",
        "        if (s + 1) % n_cols == 0: print(\"|\")"
      ],
      "metadata": {
        "id": "L4N0ildYroM5"
      },
      "execution_count": 10,
      "outputs": []
    },
    {
      "cell_type": "code",
      "source": [
        "def policy_evaluation(pi, P, gamma=1.0, theta=1e-10):\n",
        "    num_states = len(P)\n",
        "    V = np.zeros(num_states, dtype=np.float64)\n",
        "    while True:\n",
        "        delta = 0\n",
        "        for s in range(num_states):\n",
        "            v = V[s]\n",
        "            new_v = 0\n",
        "            a = pi(s)\n",
        "            for prob, next_state, reward, done in P[s][a]:\n",
        "                new_v += prob * (reward + gamma * V[next_state])\n",
        "            V[s] = new_v\n",
        "            delta = max(delta, abs(v - V[s]))\n",
        "        if delta < theta:\n",
        "            break\n",
        "    return V"
      ],
      "metadata": {
        "id": "yVK2ig6esKw3"
      },
      "execution_count": 11,
      "outputs": []
    },
    {
      "cell_type": "code",
      "source": [
        "V = policy_evaluation(pi, P)\n",
        "print_state_value_function(V, P, n_cols=7, prec=5)\n"
      ],
      "metadata": {
        "colab": {
          "base_uri": "https://localhost:8080/"
        },
        "id": "UZTz18cWr5nU",
        "outputId": "2b8f76bf-9851-454c-aa5b-57c97d3e7cd5"
      },
      "execution_count": 12,
      "outputs": [
        {
          "output_type": "stream",
          "name": "stdout",
          "text": [
            "State-value function:\n",
            "|           | 01 0.00275 | 02 0.01099 | 03 0.03571 | 04 0.10989 | 05 0.33242 |           |\n"
          ]
        }
      ]
    },
    {
      "cell_type": "code",
      "source": [
        "def decay_schedule(init_value, min_value, decay_ratio, max_steps, log_start=-2 , log_base=10):\n",
        "  decay_steps = int(max_steps * decay_ratio)\n",
        "  rem_steps = max_steps - decay_steps\n",
        "  values = np.logspace(log_start, 0 , decay_steps, base = log_base, endpoint=True)[::-1]\n",
        "  values = (values - values.min()) / (values.max() - values.min())\n",
        "  values = (init_value - min_value) * values + min_value\n",
        "  values = np.pad(values, (0, rem_steps), 'edge')\n",
        "  return values"
      ],
      "metadata": {
        "id": "NirTMCG-l8nB"
      },
      "execution_count": 13,
      "outputs": []
    },
    {
      "cell_type": "code",
      "source": [
        "from itertools import count\n",
        "def generate_trajectory(select_action,Q,epsilon,env,max_steps=200):\n",
        "  done,trajectory = False,[]\n",
        "  while not done:\n",
        "    state = env.reset()\n",
        "    for t in count():\n",
        "      action = select_action(state,Q,epsilon)\n",
        "      next_state, reward, done, _ = env.step(action)\n",
        "      experience = (state, action, reward, next_state, done)\n",
        "      trajectory.append(experience)\n",
        "      if done:\n",
        "        break\n",
        "      if t >= max_steps - 1:\n",
        "        trajectory = []\n",
        "        break\n",
        "      state = next_state\n",
        "  return np.array(trajectory, np.object)"
      ],
      "metadata": {
        "id": "JqxB01cmraqn"
      },
      "execution_count": 14,
      "outputs": []
    },
    {
      "cell_type": "code",
      "source": [
        "from collections import defaultdict\n",
        "\n",
        "def mc_control(env, gamma=1.0, init_alpha=0.5, min_alpha=0.01, alpha_decay_ratio=0.5,\n",
        "               init_epsilon=1.0, min_epsilon=0.1, epsilon_decay_ratio=0.9,\n",
        "               n_episodes=3000, max_steps=200, first_visit=True):\n",
        "\n",
        "    nS, nA = env.observation_space.n, env.action_space.n\n",
        "    Q = defaultdict(lambda: np.zeros(nA))\n",
        "    V = defaultdict(float)\n",
        "    pi = defaultdict(lambda: np.random.choice(nA))\n",
        "    Q_track = []\n",
        "    pi_track = []\n",
        "    for episode in range(n_episodes):\n",
        "        epsilon = max(init_epsilon * (epsilon_decay_ratio ** episode), min_epsilon)\n",
        "        alpha = max(init_alpha * (alpha_decay_ratio ** episode), min_alpha)\n",
        "        trajectory = generate_trajectory(select_action, Q, epsilon, env, max_steps)\n",
        "        n = len(trajectory)\n",
        "        G = 0\n",
        "        for t in range(n - 1, -1, -1):\n",
        "            state, action, reward, _, _ = trajectory[t]\n",
        "            G = gamma * G + reward\n",
        "            if first_visit and (state, action) not in [(s, a) for s, a, _, _, _ in trajectory[:t]]:\n",
        "                Q[state][action] += alpha * (G - Q[state][action])\n",
        "                V[state] = np.max(Q[state])\n",
        "                pi[state] = np.argmax(Q[state])\n",
        "        Q_track.append(Q.copy())\n",
        "        pi_track.append(pi.copy)\n",
        "    return Q, V, pi, Q_track, pi_track"
      ],
      "metadata": {
        "id": "c7TCTjVxzNi1"
      },
      "execution_count": 15,
      "outputs": []
    },
    {
      "cell_type": "code",
      "source": [
        "from numpy.lib.function_base import select\n",
        "from collections import defaultdict\n",
        "\n",
        "def mc_control(env, gamma=1.0, init_alpha=0.5, min_alpha=0.01, alpha_decay_ratio=0.5,\n",
        "               init_epsilon=1.0, min_epsilon=0.1, epsilon_decay_ratio=0.9,\n",
        "               n_episodes=3000, max_steps=200, first_visit=True):\n",
        "\n",
        "    nS, nA = env.observation_space.n, env.action_space.n\n",
        "    Q = defaultdict(lambda: np.zeros(nA))\n",
        "    V = defaultdict(float)\n",
        "    pi = defaultdict(lambda: np.random.choice(nA))\n",
        "    Q_track = []\n",
        "    pi_track = []\n",
        "\n",
        "    select_action = lambda state,Q, epsilon: np.argmax(Q[state]) if np.random.random() > epsilon else np.random.randint(len(Q[state]))\n",
        "\n",
        "    for episode in range(n_episodes):\n",
        "        epsilon = max(init_epsilon * (epsilon_decay_ratio ** episode), min_epsilon)\n",
        "        alpha = max(init_alpha * (alpha_decay_ratio ** episode), min_alpha)\n",
        "        trajectory = generate_trajectory(select_action, Q, epsilon, env, max_steps)\n",
        "        n = len(trajectory)\n",
        "        G = 0\n",
        "        for t in range(n - 1, -1, -1):\n",
        "            state, action, reward, _, _ = trajectory[t]\n",
        "            G = gamma * G + reward\n",
        "            if first_visit and (state, action) not in [(s, a) for s, a, _, _, _ in trajectory[:t]]:\n",
        "                Q[state][action] += alpha * (G - Q[state][action])\n",
        "                V[state] = np.max(Q[state])\n",
        "                pi[state] = np.argmax(Q[state])\n",
        "        Q_track.append(Q.copy())\n",
        "        pi_track.append(pi.copy)\n",
        "    return Q, V, pi"
      ],
      "metadata": {
        "id": "A0W36_44npaG"
      },
      "execution_count": 16,
      "outputs": []
    },
    {
      "cell_type": "code",
      "source": [
        "optimal_Q, optimal_V, optimal_pi = mc_control(env)\n",
        "print_state_value_function(optimal_Q, P,n_cols=4, prec=2, title='Action-value-function')"
      ],
      "metadata": {
        "colab": {
          "base_uri": "https://localhost:8080/"
        },
        "id": "3JEo_nnizf3q",
        "outputId": "133f2740-f6a0-4912-de7a-9676919e1c6e"
      },
      "execution_count": 21,
      "outputs": [
        {
          "output_type": "stream",
          "name": "stdout",
          "text": [
            "Action-value-function\n",
            "|           | 01 [0.15 0.55] | 02 [0.63 0.84] | 03 [0.86 0.95] |\n",
            "| 04 [0.95 0.98] | 05 [0.98 1.  ] |           "
          ]
        }
      ]
    },
    {
      "cell_type": "code",
      "source": [
        "print_state_value_function(optimal_Q, P,n_cols=4, prec=2, title='State-value-function')"
      ],
      "metadata": {
        "id": "Uw51cGm30J1-",
        "colab": {
          "base_uri": "https://localhost:8080/"
        },
        "outputId": "0be55553-ee7a-4139-e62a-8188240dd755"
      },
      "execution_count": 22,
      "outputs": [
        {
          "output_type": "stream",
          "name": "stdout",
          "text": [
            "State-value-function\n",
            "|           | 01 [0.15 0.55] | 02 [0.63 0.84] | 03 [0.86 0.95] |\n",
            "| 04 [0.95 0.98] | 05 [0.98 1.  ] |           "
          ]
        }
      ]
    },
    {
      "cell_type": "code",
      "source": [
        "print_policy(optimal_pi,P)"
      ],
      "metadata": {
        "colab": {
          "base_uri": "https://localhost:8080/"
        },
        "id": "skbIh_lOZLtx",
        "outputId": "6821df42-7627-4a26-8ed9-46f771f8aaca"
      },
      "execution_count": 23,
      "outputs": [
        {
          "output_type": "stream",
          "name": "stdout",
          "text": [
            "Policy:\n",
            "|           | 01      v | 02      v | 03      v |\n",
            "| 04      v | 05      v |           "
          ]
        }
      ]
    },
    {
      "cell_type": "code",
      "source": [],
      "metadata": {
        "id": "Yvm5o2ZvZMH9"
      },
      "execution_count": null,
      "outputs": []
    }
  ]
}